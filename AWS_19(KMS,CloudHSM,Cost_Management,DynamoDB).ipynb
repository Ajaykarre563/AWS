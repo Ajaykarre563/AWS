{
  "nbformat": 4,
  "nbformat_minor": 0,
  "metadata": {
    "colab": {
      "provenance": []
    },
    "kernelspec": {
      "name": "python3",
      "display_name": "Python 3"
    },
    "language_info": {
      "name": "python"
    }
  },
  "cells": [
    {
      "cell_type": "markdown",
      "source": [
        "# **what is mean by  Key Management Service.?**"
      ],
      "metadata": {
        "id": "PqrrJgOUYj7m"
      }
    },
    {
      "cell_type": "markdown",
      "source": [
        "**It’s a secure way to manage and use encryption keys to protect your data. With KMS, you can create, store, and control the encryption keys used to lock and unlock your data, ensuring it stays safe and private. AWS KMS is fully managed, meaning AWS handles the hard parts like security and availability.**"
      ],
      "metadata": {
        "id": "BL63K2XBZEVm"
      }
    },
    {
      "cell_type": "markdown",
      "source": [
        "# **what is mean by CloudHSM in AWS?**"
      ],
      "metadata": {
        "id": "dh4hUlNhcPVg"
      }
    },
    {
      "cell_type": "markdown",
      "source": [
        "**CloudHSM in AWS is a service that gives you a dedicated hardware device to store and manage your encryption keys securely.**\n",
        "\n",
        "You have full control over the keys, making it a good choice for sensitive data that needs extra security."
      ],
      "metadata": {
        "id": "d7DfGpbIcX5m"
      }
    },
    {
      "cell_type": "markdown",
      "source": [
        "# **what is mean by AWS Cost Management?**"
      ],
      "metadata": {
        "id": "6uJndah3eMdQ"
      }
    },
    {
      "cell_type": "markdown",
      "source": [
        "**AWS Cost Management helps you track and control your AWS spending to save money.**\n",
        "\n",
        "Example:\n",
        "\n",
        "If you spend 100 dollars on running servers in AWS, Cost Management can show you a breakdown of how much is spent on storage, computing, or other services. You can also set a budget to get alerts if spending goes over $90, helping you stay in control.\n",
        "\n",
        "\n",
        "\n",
        "\n",
        "\n",
        "\n",
        "\n"
      ],
      "metadata": {
        "id": "WzoC8EBTd60X"
      }
    },
    {
      "cell_type": "markdown",
      "source": [
        "# **what is mean by  dynamic database ?**"
      ],
      "metadata": {
        "id": "fceDqe0Ngd-0"
      }
    },
    {
      "cell_type": "markdown",
      "source": [
        "**A dynamic database is a database that can automatically adjust its structure, size, or resources based on the needs of the application. It is commonly used in NoSQL databases like DynamoDB.**\n",
        "\n",
        "It is store in Json format but not in tabular format.\n"
      ],
      "metadata": {
        "id": "S75emd0ugpFr"
      }
    },
    {
      "cell_type": "markdown",
      "source": [
        "**Advantages:**\n",
        "\n",
        "Scalability: Automatically grows or shrinks based on data and traffic.\n",
        "\n",
        "High Performance: Maintains fast responses even with large amounts of data.\n",
        "\n",
        "Cost-Effective: You pay only for the resources you use.\n",
        "\n",
        "Flexibility: Handles unstructured or semi-structured data easily."
      ],
      "metadata": {
        "id": "mdcqiTykg3wx"
      }
    },
    {
      "cell_type": "markdown",
      "source": [
        "**How it works:**\n",
        "\n",
        "Data Insertion: You store data without worrying about predefined structures (like rows/columns in traditional databases).\n",
        "\n",
        "Scaling: As traffic increases, the database automatically adds more resources to handle the load. When traffic decreases, it reduces resources.\n",
        "\n",
        "Querying: It retrieves data quickly using keys or indexes, optimized for fast searches."
      ],
      "metadata": {
        "id": "ZTjF1rf-hCHS"
      }
    },
    {
      "cell_type": "code",
      "execution_count": null,
      "metadata": {
        "id": "ezyw0kecX_UC"
      },
      "outputs": [],
      "source": []
    }
  ]
}