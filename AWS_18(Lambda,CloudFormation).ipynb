{
  "nbformat": 4,
  "nbformat_minor": 0,
  "metadata": {
    "colab": {
      "provenance": []
    },
    "kernelspec": {
      "name": "python3",
      "display_name": "Python 3"
    },
    "language_info": {
      "name": "python"
    }
  },
  "cells": [
    {
      "cell_type": "markdown",
      "source": [
        "# **what is mean by AWS Lambda?**"
      ],
      "metadata": {
        "id": "gLaKwiZu-eje"
      }
    },
    {
      "cell_type": "markdown",
      "source": [
        "**AWS Lambda is a cloud service that lets you run your code without managing servers. You just write your code, upload it, and Lambda runs it automatically when triggered by events like a file upload, a web request, or a database change.**\n",
        "\n",
        "**Supported Programming Language**\n",
        "\n",
        "AWS Lambda supports a variety of programming languages, including:\n",
        "\n",
        "Node.js (JavaScript)\n",
        "\n",
        "Python\n",
        "\n",
        "Java\n",
        "\n",
        "Go\n",
        "\n",
        "C# (.NET Core)\n",
        "\n",
        "Ruby\n",
        "\n",
        "Custom runtimes (for other languages like PHP or C++)"
      ],
      "metadata": {
        "id": "JuTiwmZO-nH1"
      }
    },
    {
      "cell_type": "markdown",
      "source": [
        "# **Advantages of AWS Lambda**\n",
        "\n",
        "**No Server Management**\n",
        "\n",
        "You don’t need to worry about servers. AWS handles everything behind the scenes.\n",
        "\n",
        "**Pay-As-You-Go**\n",
        "\n",
        "You are charged only for the time your code runs (in milliseconds), making it cost-efficient.\n",
        "\n",
        "**Auto-Scaling**\n",
        "\n",
        "Lambda automatically scales to handle the number of requests, from a few to thousands, without extra setup.\n",
        "\n",
        "**Event-Driven**\n",
        "\n",
        "It runs in response to events like HTTP requests (via API Gateway), database changes, file uploads to S3, or messages in queues (like SQS).\n",
        "\n",
        "**Flexible Deployment**\n",
        "\n",
        "You can deploy code as a single function and update it without affecting other functions.\n",
        "\n",
        "**Highly Integrated**\n",
        "\n",
        "Works seamlessly with other AWS services like S3, DynamoDB, and CloudWatch."
      ],
      "metadata": {
        "id": "W9wQXaeF-3O3"
      }
    },
    {
      "cell_type": "markdown",
      "source": [
        "# **Common Uses of AWS Lambda**\n",
        "\n",
        "**File Processing**\n",
        "\n",
        "Automatically processes files uploaded to S3, such as resizing images or converting file formats.\n",
        "\n",
        "**API Backend**\n",
        "\n",
        "Serves as the backend for APIs using AWS API Gateway.\n",
        "\n",
        "**Real-Time Data Processing**\n",
        "\n",
        "Processes streams of data from sources like IoT devices or logs in real time.\n",
        "\n",
        "**Automation Tasks**\n",
        "\n",
        "Automates infrastructure tasks like managing backups, monitoring, and scheduled jobs.\n",
        "\n",
        "**Chatbots and Alexa Skills**\n",
        "\n",
        "Powers conversational interfaces and smart assistant capabilities.\n",
        "\n",
        "**Microservices**\n",
        "\n",
        "Builds modular, small-scale services that work together."
      ],
      "metadata": {
        "id": "qDYDtKOd_KLQ"
      }
    },
    {
      "cell_type": "markdown",
      "source": [
        "# **Note:**\n",
        "\n",
        "**Yes, servers do run in the background for AWS Lambda, but you don’t have to manage them. This is known as serverless computing.**"
      ],
      "metadata": {
        "id": "lgy5WVR3_hP2"
      }
    },
    {
      "cell_type": "markdown",
      "source": [
        "# **what is mean by AWS CloudFormation?**"
      ],
      "metadata": {
        "id": "RtQWHR_fCy-7"
      }
    },
    {
      "cell_type": "markdown",
      "source": [
        "**AWS CloudFormation is a tool that helps you set up and manage your AWS resources automatically using a script. Instead of manually creating things like servers, databases, or networks, you write everything you need in a file (called a template), and CloudFormation creates it all for you.**\n",
        "\n",
        "**Simple Example:**\n",
        "\n",
        "Imagine you want a website with:\n",
        "\n",
        "A server\n",
        "\n",
        "A database\n",
        "\n",
        "Storage for files\n",
        "\n",
        "**You write these requirements in a CloudFormation template, and AWS builds everything for you. If you want to make changes later, you just update the template, and CloudFormation updates your setup.**\n",
        "\n",
        "**Key Benefits:**\n",
        "\n",
        "Saves Time: No need to manually create resources.\n",
        "\n",
        "Consistency: Everything is set up the same way every time.\n",
        "\n",
        "Easier Management: You can reuse the template to set up the same environment anywhere."
      ],
      "metadata": {
        "id": "PEHgNcabDBQW"
      }
    },
    {
      "cell_type": "code",
      "execution_count": null,
      "metadata": {
        "id": "BVuWFeB2-Byz"
      },
      "outputs": [],
      "source": []
    }
  ]
}