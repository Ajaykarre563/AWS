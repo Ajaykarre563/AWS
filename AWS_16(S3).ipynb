{
  "nbformat": 4,
  "nbformat_minor": 0,
  "metadata": {
    "colab": {
      "provenance": []
    },
    "kernelspec": {
      "name": "python3",
      "display_name": "Python 3"
    },
    "language_info": {
      "name": "python"
    }
  },
  "cells": [
    {
      "cell_type": "markdown",
      "source": [
        "# **what is mean by S3 ?**"
      ],
      "metadata": {
        "id": "6a-P3zbh9oey"
      }
    },
    {
      "cell_type": "markdown",
      "source": [
        "**Amazon S3 (Simple Storage Service) is a cloud storage service by AWS where you can store and retrieve any amount of data, such as files, images, videos, and backups. It's like a big online hard drive, but you only pay for the storage you use, and it’s accessible from anywhere via the internet. It's secure, scalable, and designed for durability.**"
      ],
      "metadata": {
        "id": "b3I85aID9wZm"
      }
    },
    {
      "cell_type": "markdown",
      "source": [
        "NOTE: It is nothing but a object where you can storage your files."
      ],
      "metadata": {
        "id": "c-CAAs0D9ycf"
      }
    },
    {
      "cell_type": "markdown",
      "source": [
        "#**Real-Life Example:**\n",
        "\n",
        "Imagine you have a smartphone and take photos.\n",
        "\n",
        "Where do you store these photos? Maybe in Google Photos, iCloud, or a USB drive.\n",
        "\n",
        "Amazon S3 does something similar—it stores your files, but it's online and very powerful."
      ],
      "metadata": {
        "id": "DeMswupj-vEQ"
      }
    },
    {
      "cell_type": "markdown",
      "source": [
        "# **Example Use:**\n",
        "\n",
        "You build a website where people can upload and view their videos."
      ],
      "metadata": {
        "id": "r4j6RS9RAXmY"
      }
    },
    {
      "cell_type": "markdown",
      "source": [
        "# 1.**Uploading a Video to S3**\n",
        "\n",
        "User Action: A user visits your website and uploads a video.\n",
        "\n",
        "**Behind the Scenes:**\n",
        "\n",
        "The website sends the video file to an S3 bucket using the AWS SDK or API.\n",
        "\n",
        "S3 stores the video securely.\n",
        "\n",
        "It generates a unique link (URL) for the file.\n",
        "\n",
        "#2.**Keeping the Video Safe**\n",
        "\n",
        "S3 ensures the video is securely stored with encryption and high durability (your data is copied to multiple servers).\n",
        "\n",
        "Access to the file can be restricted by using permissions, ensuring only authorized users can access it.\n",
        "\n",
        "#3.**Viewing the Video from S3**\n",
        "\n",
        "User Action: Another user wants to watch the uploaded video.\n",
        "\n",
        "**Behind the Scenes:**\n",
        "\n",
        "Your website fetches the video file’s URL from S3.\n",
        "The user’s browser streams or downloads the video using the URL."
      ],
      "metadata": {
        "id": "ROIiDZafAdvq"
      }
    },
    {
      "cell_type": "markdown",
      "source": [
        "# **Note:**\n",
        "\n",
        "**In Amazon S3, One Zone-IA (One Zone-Infrequent Access) is a storage class that is designed for data that you don't need to access frequently and that can be stored in a single availability zone (AZ) instead of being replicated across multiple zones.**"
      ],
      "metadata": {
        "id": "xaqJPqH_EH_a"
      }
    },
    {
      "cell_type": "markdown",
      "source": [
        "# **What is mean by Replication ?**"
      ],
      "metadata": {
        "id": "IB701S-TFF22"
      }
    },
    {
      "cell_type": "markdown",
      "source": [
        "**Replication in Amazon S3 is a way to automatically copy files from one S3 bucket to another.**\n",
        "\n",
        "**Simple Example:**\n",
        "\n",
        "You have a storage bucket in Region A.\n",
        "\n",
        "You want the same files to be available in Region B or another bucket in the same region.\n",
        "\n",
        "Replication automatically keeps the second bucket updated whenever new files are added or changed in the first bucket.\n",
        "\n",
        "**Why Use It?**\n",
        "\n",
        "Backup: Keeps your data safe in case something happens to the original bucket.\n",
        "\n",
        "Faster Access: Users in different locations can access files from a closer region.\n",
        "\n",
        "Compliance: Store copies of data in specific locations to meet rules or regulations."
      ],
      "metadata": {
        "id": "KJgsYsnpFOhs"
      }
    },
    {
      "cell_type": "markdown",
      "source": [
        "# **What is mean by RTC?**"
      ],
      "metadata": {
        "id": "d9Ws4munGY3a"
      }
    },
    {
      "cell_type": "markdown",
      "source": [
        "**Replication Time Control (RTC) in Amazon S3 ensures your files are copied to another bucket quickly, usually within 15 minutes, and it provides alerts if there are delays**.\n",
        "\n",
        "**Simple Example:**\n",
        "\n",
        "You have two S3 buckets:\n",
        "\n",
        "A main bucket in Mumbai for storing sales data.\n",
        "\n",
        "A backup bucket in Singapore for disaster recovery.\n",
        "\n",
        "**If you enable RTC:**\n",
        "\n",
        "Every time a sales file is uploaded to the Mumbai bucket, it will be copied to\n",
        "the Singapore bucket within 15 minutes.\n",
        "\n",
        "If the copy process is delayed or fails, you'll get an alert so you can fix it."
      ],
      "metadata": {
        "id": "QO4NxN-4GeHa"
      }
    },
    {
      "cell_type": "markdown",
      "source": [
        "# **what is mean by Static website hosting ?**"
      ],
      "metadata": {
        "id": "kBNxh6DxHPCh"
      }
    },
    {
      "cell_type": "markdown",
      "source": [
        "**Static website hosting in Amazon S3 allows you to use S3 to host a website that only contains static content, such as HTML, CSS, JavaScript, images, and videos. It does not support server-side code like PHP or databases.**"
      ],
      "metadata": {
        "id": "xK1sQjl6IbuT"
      }
    },
    {
      "cell_type": "markdown",
      "source": [
        "# **Example:**\n",
        "\n",
        "**You create a simple portfolio website with an index.html file and some images.**\n",
        "\n",
        "You upload these files to an S3 bucket.\n",
        "\n",
        "Enable static website hosting in the bucket settings.\n",
        "\n",
        "Share the URL provided by S3, and anyone can visit your portfolio online!\n"
      ],
      "metadata": {
        "id": "RTKzl9MuIrf7"
      }
    },
    {
      "cell_type": "markdown",
      "source": [
        "# **what is mean by S3 Event Configuration ?**"
      ],
      "metadata": {
        "id": "p0u1IYbnVAUJ"
      }
    },
    {
      "cell_type": "markdown",
      "source": [
        "**S3 Event Configuration in Amazon S3 allows you to set up automatic notifications whenever specific actions happen in an S3 bucket. This feature triggers certain processes, like sending a message, invoking a function, or running a workflow, based on the event.**"
      ],
      "metadata": {
        "id": "OG_jT1dAVIZE"
      }
    },
    {
      "cell_type": "markdown",
      "source": [
        "# **What Can It Do?**\n",
        "\n",
        "**You can configure S3 to send notifications when events occur, such as:**\n",
        "\n",
        "Object Created: A file is uploaded to the bucket.\n",
        "\n",
        "Object Removed: A file is deleted.\n",
        "\n",
        "Object Accessed: A file is read (specific use cases).\n",
        "\n",
        "**The notifications can be sent to:**\n",
        "\n",
        "Amazon Simple Notification Service (SNS): To send alerts.\n",
        "\n",
        "Amazon Simple Queue Service (SQS): To queue the event for processing.\n",
        "\n",
        "AWS Lambda: To trigger a function that processes the event.\n"
      ],
      "metadata": {
        "id": "72lQNGuDVNyq"
      }
    },
    {
      "cell_type": "markdown",
      "source": [
        "# **Simple Example:**\n",
        "\n",
        "You have an S3 bucket where users upload images. You want to process each image (e.g., resize it) as soon as it’s uploaded.\n",
        "\n",
        "Configure an event for the bucket that triggers a Lambda function whenever a new image is uploaded.\n",
        "\n",
        "The Lambda function automatically resizes the image and stores the processed version back in the bucket."
      ],
      "metadata": {
        "id": "zGGThad1VgLC"
      }
    },
    {
      "cell_type": "markdown",
      "source": [
        "# **what is mean by Bucket Monitoring and CloudWatch in S3 ?**"
      ],
      "metadata": {
        "id": "O2NGRmG0Wklj"
      }
    },
    {
      "cell_type": "markdown",
      "source": [
        "**Bucket Monitoring and CloudWatch in S3 let you track and analyze activities in your S3 buckets, such as file uploads, downloads, and storage usage.**\n",
        "\n",
        "# **What Does It Do?**\n",
        "\n",
        "**Bucket Monitoring:** Keeps an eye on your S3 bucket's activity, like how much data is stored, how often files are accessed, and any errors that occur.\n",
        "\n",
        "**CloudWatch Integration:** Sends these details to Amazon CloudWatch, where you can see:\n",
        "Storage usage (total size of your data).\n",
        "\n",
        "Number of requests (uploads, downloads, etc.).\n",
        "\n",
        "Data transfer (how much data is sent or received).\n",
        "\n",
        "Errors (e.g., failed requests).\n",
        "\n",
        "# **Why Use It?**\n",
        "\n",
        "Understand Usage: Know how much storage you're using and where costs come from.\n",
        "\n",
        "Detect Issues: Spot problems like failed uploads or unusual activity.\n",
        "\n",
        "Set Alerts: Get notified if something goes wrong, like a sudden increase in requests or errors.\n",
        "\n",
        "**Simple Example:**\n",
        "You have an S3 bucket for storing customer invoices.\n",
        "\n",
        "Enable monitoring in CloudWatch.\n",
        "\n",
        "Use CloudWatch to:\n",
        "\n",
        "Track how much storage the bucket is using.\n",
        "\n",
        "Get notified if there are too many failed file uploads.\n",
        "\n",
        "Take action based on alerts, such as fixing errors or scaling resources."
      ],
      "metadata": {
        "id": "BZuEtMTFWsid"
      }
    },
    {
      "cell_type": "markdown",
      "source": [
        "# **what is mean by Object Lock in S3 ?**"
      ],
      "metadata": {
        "id": "N9xqfeaCafIX"
      }
    },
    {
      "cell_type": "markdown",
      "source": [
        "**Object Lock in S3 is a feature that prevents files from being deleted or changed for a set period of time or forever. It’s useful for protecting important files, like legal documents or backups, from being accidentally or intentionally modified.**"
      ],
      "metadata": {
        "id": "HMUt4pASalIZ"
      }
    },
    {
      "cell_type": "markdown",
      "source": [
        "# **Key Points:**\n",
        "\n",
        "**Locks Files:** Once a file is locked, it can't be deleted or changed until the lock expires.\n",
        "\n",
        "**Retention Period**: You set how long the lock lasts (e.g., 1 year, 5 years).\n",
        "\n",
        "# **Modes:**\n",
        "\n",
        "**Governance Mode:** Protects files but allows authorized users to remove the lock.\n",
        "\n",
        "**Compliance Mode:** Strict mode where no one can remove the lock until it expires.\n",
        "\n",
        "**Example:**\n",
        "\n",
        "You store tax records in an S3 bucket and set an Object Lock for 5 years.\n",
        "\n",
        "These records cannot be deleted or changed for the next 5 years, ensuring they are safe and compliant with regulations."
      ],
      "metadata": {
        "id": "K9mNCd2dat9j"
      }
    },
    {
      "cell_type": "markdown",
      "source": [
        "# **What is Snowball?**\n",
        "\n",
        "Amazon Snowball is a physical device that helps move large amounts of data to AWS. Instead of uploading files over the internet, you copy your data to the Snowball device, ship it to AWS, and they upload it to your S3 bucket.\n",
        "\n",
        "# **Example:**\n",
        "\n",
        "You have a lot of data (like 50 TB of videos). Using the internet might take weeks, but Snowball makes it faster and easier by shipping the device directly to you.\n",
        "\n",
        "**Other S3 Bucket Options:**\n",
        "\n",
        "**Versioning:**\n",
        "\n",
        "Keeps old versions of files, so you can recover them if deleted or changed by mistake.\n",
        "\n",
        "**Example: **If you overwrite a file, you can restore the previous version.\n",
        "\n",
        "**Lifecycle Policies:**\n",
        "\n",
        "Automatically move old files to cheaper storage or delete them to save space.\n",
        "\n",
        "**Example:** Move unused files to Glacier after 30 days.\n",
        "\n",
        "**Access Control:**\n",
        "\n",
        "Decide who can see or edit your files.\n",
        "\n",
        "**Example:** Let only your team upload files but allow others to download them.\n",
        "\n",
        "**Encryption:**\n",
        "\n",
        "Protects your files by encrypting them while stored.\n",
        "\n",
        "**Example:** Ensures sensitive data is secure.\n",
        "\n",
        "**Logging:**\n",
        "\n",
        "Tracks actions like uploads, downloads, or deletions.\n",
        "\n",
        "**Example:** Helps you see who accessed your files."
      ],
      "metadata": {
        "id": "lGnNa6LBcH4h"
      }
    },
    {
      "cell_type": "code",
      "execution_count": null,
      "metadata": {
        "id": "A3WTI8Oq8VVv"
      },
      "outputs": [],
      "source": []
    }
  ]
}